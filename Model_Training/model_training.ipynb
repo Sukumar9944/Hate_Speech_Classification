{
 "cells": [
  {
   "cell_type": "code",
   "execution_count": 1,
   "metadata": {},
   "outputs": [],
   "source": [
    "from text_processor import text_processor\n",
    "import pandas as pd\n",
    "\n",
    "# Train Test Split\n",
    "from sklearn.model_selection import train_test_split\n",
    "\n",
    "# Vectorisation module\n",
    "from sklearn.feature_extraction.text import CountVectorizer\n",
    "\n",
    "# Classifiers\n",
    "from sklearn.ensemble import RandomForestClassifier\n",
    "from sklearn.svm import SVC\n",
    "from sklearn.neighbors import KNeighborsClassifier\n",
    "from xgboost import XGBClassifier\n",
    "\n",
    "# Evaluation metrics\n",
    "from sklearn.metrics import f1_score"
   ]
  },
  {
   "cell_type": "code",
   "execution_count": 5,
   "metadata": {},
   "outputs": [
    {
     "data": {
      "text/html": [
       "<div>\n",
       "<style scoped>\n",
       "    .dataframe tbody tr th:only-of-type {\n",
       "        vertical-align: middle;\n",
       "    }\n",
       "\n",
       "    .dataframe tbody tr th {\n",
       "        vertical-align: top;\n",
       "    }\n",
       "\n",
       "    .dataframe thead th {\n",
       "        text-align: right;\n",
       "    }\n",
       "</style>\n",
       "<table border=\"1\" class=\"dataframe\">\n",
       "  <thead>\n",
       "    <tr style=\"text-align: right;\">\n",
       "      <th></th>\n",
       "      <th>Unnamed: 0</th>\n",
       "      <th>text</th>\n",
       "      <th>label</th>\n",
       "    </tr>\n",
       "  </thead>\n",
       "  <tbody>\n",
       "    <tr>\n",
       "      <th>785</th>\n",
       "      <td>792</td>\n",
       "      <td>suspect mr harrison mr currie repeat probation...</td>\n",
       "      <td>noHate</td>\n",
       "    </tr>\n",
       "  </tbody>\n",
       "</table>\n",
       "</div>"
      ],
      "text/plain": [
       "     Unnamed: 0                                               text   label\n",
       "785         792  suspect mr harrison mr currie repeat probation...  noHate"
      ]
     },
     "execution_count": 5,
     "metadata": {},
     "output_type": "execute_result"
    }
   ],
   "source": [
    "df = pd.read_csv(r'F:\\GUVI_DATA_SCIENCE\\Project\\Hate_Speech_Classification\\Hate_Speech_Dataset\\final_processed.csv')\n",
    "df.sample()"
   ]
  },
  {
   "cell_type": "code",
   "execution_count": 6,
   "metadata": {},
   "outputs": [
    {
     "data": {
      "text/plain": [
       "label\n",
       "noHate    9507\n",
       "hate      1196\n",
       "Name: count, dtype: int64"
      ]
     },
     "execution_count": 6,
     "metadata": {},
     "output_type": "execute_result"
    }
   ],
   "source": [
    "df['label'].value_counts()"
   ]
  },
  {
   "cell_type": "code",
   "execution_count": 7,
   "metadata": {},
   "outputs": [
    {
     "data": {
      "text/plain": [
       "Unnamed: 0      0\n",
       "text          121\n",
       "label           0\n",
       "dtype: int64"
      ]
     },
     "execution_count": 7,
     "metadata": {},
     "output_type": "execute_result"
    }
   ],
   "source": [
    "df.isnull().sum()"
   ]
  },
  {
   "cell_type": "code",
   "execution_count": 8,
   "metadata": {},
   "outputs": [],
   "source": [
    "df = df.dropna(axis = 0)"
   ]
  },
  {
   "cell_type": "code",
   "execution_count": 9,
   "metadata": {},
   "outputs": [
    {
     "data": {
      "text/plain": [
       "Unnamed: 0    0\n",
       "text          0\n",
       "label         0\n",
       "dtype: int64"
      ]
     },
     "execution_count": 9,
     "metadata": {},
     "output_type": "execute_result"
    }
   ],
   "source": [
    "df.isnull().sum()"
   ]
  },
  {
   "cell_type": "code",
   "execution_count": 10,
   "metadata": {},
   "outputs": [],
   "source": [
    "df['label'] = df['label'].map({'noHate' : 1, 'hate':0})"
   ]
  },
  {
   "cell_type": "markdown",
   "metadata": {},
   "source": [
    "##### **Model Training**"
   ]
  },
  {
   "cell_type": "code",
   "execution_count": 11,
   "metadata": {},
   "outputs": [
    {
     "name": "stdout",
     "output_type": "stream",
     "text": [
      "(8465,) (2117,)\n"
     ]
    }
   ],
   "source": [
    "x = df['text']\n",
    "y = df['label']\n",
    "\n",
    "x_train, x_test, y_train, y_test = train_test_split(x, y, test_size = 0.2, random_state = 42)\n",
    "print(x_train.shape, x_test.shape)"
   ]
  },
  {
   "cell_type": "markdown",
   "metadata": {},
   "source": [
    "##### **Vectorisation of Text**"
   ]
  },
  {
   "cell_type": "code",
   "execution_count": 12,
   "metadata": {},
   "outputs": [],
   "source": [
    "cv = CountVectorizer()\n",
    "\n",
    "x_train_vectorised_1 = cv.fit_transform(x_train)\n",
    "x_test_vectorised_1  = cv.transform(x_test)"
   ]
  },
  {
   "cell_type": "markdown",
   "metadata": {},
   "source": [
    "##### **Fitting the model**"
   ]
  },
  {
   "cell_type": "code",
   "execution_count": 14,
   "metadata": {},
   "outputs": [],
   "source": [
    "def model_training(model_name, x_train, y_train):\n",
    "    if model_name == 'RandomForestClassifier':\n",
    "        model = RandomForestClassifier(random_state = 42)\n",
    "\n",
    "\n",
    "    elif model_name == 'XGBClassifier':\n",
    "        model = XGBClassifier(random_state = 42)\n",
    "\n",
    "\n",
    "    elif model_name == 'SVC':\n",
    "        model = SVC(random_state = 42)\n",
    " \n",
    "\n",
    "    elif model_name == 'KNeighborsClassifier':\n",
    "        model = KNeighborsClassifier()        \n",
    "\n",
    "    else:\n",
    "        raise ValueError('Invalid Model name')\n",
    "    \n",
    "    model.fit(x_train, y_train)\n",
    "\n",
    "    return model"
   ]
  },
  {
   "cell_type": "markdown",
   "metadata": {},
   "source": [
    "##### **Random Forest Classifier**"
   ]
  },
  {
   "cell_type": "code",
   "execution_count": 15,
   "metadata": {},
   "outputs": [],
   "source": [
    "rfc = model_training('RandomForestClassifier', x_train_vectorised_1, y_train)\n",
    "\n",
    "y_train_pred_1 = rfc.predict(x_train_vectorised_1)\n",
    "y_test_pred_1 = rfc.predict(x_test_vectorised_1)"
   ]
  },
  {
   "cell_type": "markdown",
   "metadata": {},
   "source": [
    "##### **XGBClassifier**"
   ]
  },
  {
   "cell_type": "code",
   "execution_count": 16,
   "metadata": {},
   "outputs": [],
   "source": [
    "xgbc = model_training('XGBClassifier', x_train_vectorised_1, y_train)\n",
    "\n",
    "y_train_pred_2 = xgbc.predict(x_train_vectorised_1)\n",
    "y_test_pred_2 = xgbc.predict(x_test_vectorised_1)"
   ]
  },
  {
   "cell_type": "markdown",
   "metadata": {},
   "source": [
    "##### **SVC**"
   ]
  },
  {
   "cell_type": "code",
   "execution_count": 17,
   "metadata": {},
   "outputs": [],
   "source": [
    "svc = model_training('SVC', x_train_vectorised_1, y_train)\n",
    "\n",
    "y_train_pred_3 = svc.predict(x_train_vectorised_1)\n",
    "y_test_pred_3 = svc.predict(x_test_vectorised_1)"
   ]
  },
  {
   "cell_type": "markdown",
   "metadata": {},
   "source": [
    "##### **KNeighborsClassifier**"
   ]
  },
  {
   "cell_type": "code",
   "execution_count": 18,
   "metadata": {},
   "outputs": [],
   "source": [
    "knc = model_training('KNeighborsClassifier', x_train_vectorised_1, y_train)\n",
    "\n",
    "y_train_pred_4 = knc.predict(x_train_vectorised_1)\n",
    "y_test_pred_4 = knc.predict(x_test_vectorised_1)"
   ]
  },
  {
   "cell_type": "markdown",
   "metadata": {},
   "source": [
    "##### **Evaluation**"
   ]
  },
  {
   "cell_type": "markdown",
   "metadata": {},
   "source": [
    "##### **1. f1 score**"
   ]
  },
  {
   "cell_type": "markdown",
   "metadata": {},
   "source": [
    "##### **Random Forest Classifier**"
   ]
  },
  {
   "cell_type": "code",
   "execution_count": 23,
   "metadata": {},
   "outputs": [
    {
     "name": "stdout",
     "output_type": "stream",
     "text": [
      "The f1 score of training set : 0.9980161354318212\n",
      "The f1 score of testing set : 0.9200102223358038\n"
     ]
    }
   ],
   "source": [
    "train_score_1 = f1_score(y_train, y_train_pred_1)\n",
    "print('The f1 score of training set :',train_score_1)\n",
    "\n",
    "test_score_1 = f1_score(y_test, y_test_pred_1)\n",
    "print('The f1 score of testing set :',test_score_1)"
   ]
  },
  {
   "cell_type": "markdown",
   "metadata": {},
   "source": [
    "##### **XGBClassifier**"
   ]
  },
  {
   "cell_type": "code",
   "execution_count": 24,
   "metadata": {},
   "outputs": [
    {
     "name": "stdout",
     "output_type": "stream",
     "text": [
      "The f1 score of training set : 0.9433302093095908\n",
      "The f1 score of testing set : 0.9345747357825868\n"
     ]
    }
   ],
   "source": [
    "train_score_2 = f1_score(y_train, y_train_pred_2)\n",
    "print('The f1 score of training set :',train_score_2)\n",
    "\n",
    "test_score_2 = f1_score(y_test, y_test_pred_2)\n",
    "print('The f1 score of testing set :',test_score_2)"
   ]
  },
  {
   "cell_type": "markdown",
   "metadata": {},
   "source": [
    "##### **SVC**"
   ]
  },
  {
   "cell_type": "code",
   "execution_count": 25,
   "metadata": {},
   "outputs": [
    {
     "name": "stdout",
     "output_type": "stream",
     "text": [
      "The f1 score of training set : 0.9495000314445632\n",
      "The f1 score of testing set : 0.9345747357825868\n"
     ]
    }
   ],
   "source": [
    "train_score_3 = f1_score(y_train, y_train_pred_3)\n",
    "print('The f1 score of training set :',train_score_3)\n",
    "\n",
    "test_score_3 = f1_score(y_test, y_test_pred_3)\n",
    "print('The f1 score of testing set :',test_score_3)"
   ]
  },
  {
   "cell_type": "markdown",
   "metadata": {},
   "source": [
    "##### **KNeighborsClassifier**"
   ]
  },
  {
   "cell_type": "code",
   "execution_count": 26,
   "metadata": {},
   "outputs": [
    {
     "name": "stdout",
     "output_type": "stream",
     "text": [
      "The f1 score of training set : 0.9369838648202261\n",
      "The f1 score of testing set : 0.912045395924684\n"
     ]
    }
   ],
   "source": [
    "train_score_4 = f1_score(y_train, y_train_pred_4)\n",
    "print('The f1 score of training set :',train_score_4)\n",
    "\n",
    "test_score_4 = f1_score(y_test, y_test_pred_4)\n",
    "print('The f1 score of testing set :',test_score_4)"
   ]
  },
  {
   "cell_type": "markdown",
   "metadata": {},
   "source": [
    "##### *Conclusion - RandomforestClassifier Performs better for this Scenario with a Accuracy score of 99% in training set and a Accuracy score of 92% in testing set*"
   ]
  },
  {
   "cell_type": "markdown",
   "metadata": {},
   "source": [
    "##### **Saving the model**"
   ]
  },
  {
   "cell_type": "code",
   "execution_count": 27,
   "metadata": {},
   "outputs": [],
   "source": [
    "import pickle"
   ]
  },
  {
   "cell_type": "code",
   "execution_count": 28,
   "metadata": {},
   "outputs": [],
   "source": [
    "# Model Object\n",
    "pickle.dump(rfc, open(r'F:\\GUVI_DATA_SCIENCE\\Project\\Hate_Speech_Classification\\Artifacts\\model.pkl', 'wb'))\n",
    "\n",
    "# Vectorizer\n",
    "pickle.dump(cv, open(r'F:\\GUVI_DATA_SCIENCE\\Project\\Hate_Speech_Classification\\Artifacts\\vectorizer.pkl', 'wb'))"
   ]
  },
  {
   "cell_type": "markdown",
   "metadata": {},
   "source": [
    "##### **User Input Prediction**"
   ]
  },
  {
   "cell_type": "code",
   "execution_count": 30,
   "metadata": {},
   "outputs": [
    {
     "name": "stdout",
     "output_type": "stream",
     "text": [
      "no hate\n"
     ]
    }
   ],
   "source": [
    "text = 'As of March 13th , 2014 , the booklet had been downloaded over 18,300 times and counting .'\n",
    "\n",
    "# Text processing\n",
    "\n",
    "processed_df = text_processor(text)\n",
    "\n",
    "model = pickle.load(open(r'F:\\GUVI_DATA_SCIENCE\\Project\\Hate_Speech_Classification\\Artifacts\\model.pkl', 'rb'))\n",
    "vectorizer = pickle.load(open(r'F:\\GUVI_DATA_SCIENCE\\Project\\Hate_Speech_Classification\\Artifacts\\vectorizer.pkl', 'rb'))\n",
    "\n",
    "input_vectorized = vectorizer.transform(processed_df['text'])\n",
    "\n",
    "input_prediction = model.predict(input_vectorized)\n",
    "\n",
    "input_prediction = input_prediction[0]\n",
    "\n",
    "if input_prediction == 1:\n",
    "    print('no hate')\n",
    "else:\n",
    "    print('hate')"
   ]
  }
 ],
 "metadata": {
  "kernelspec": {
   "display_name": "env",
   "language": "python",
   "name": "python3"
  },
  "language_info": {
   "codemirror_mode": {
    "name": "ipython",
    "version": 3
   },
   "file_extension": ".py",
   "mimetype": "text/x-python",
   "name": "python",
   "nbconvert_exporter": "python",
   "pygments_lexer": "ipython3",
   "version": "3.11.3"
  }
 },
 "nbformat": 4,
 "nbformat_minor": 2
}
